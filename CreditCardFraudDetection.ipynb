{
  "nbformat": 4,
  "nbformat_minor": 0,
  "metadata": {
    "colab": {
      "provenance": [],
      "gpuType": "T4",
      "include_colab_link": true
    },
    "kernelspec": {
      "name": "python3",
      "display_name": "Python 3"
    },
    "language_info": {
      "name": "python"
    },
    "accelerator": "GPU"
  },
  "cells": [
    {
      "cell_type": "markdown",
      "metadata": {
        "id": "view-in-github",
        "colab_type": "text"
      },
      "source": [
        "<a href=\"https://colab.research.google.com/github/sonalshreya25/DeepLearning/blob/main/CreditCardFraudDetection.ipynb\" target=\"_parent\"><img src=\"https://colab.research.google.com/assets/colab-badge.svg\" alt=\"Open In Colab\"/></a>"
      ]
    },
    {
      "cell_type": "markdown",
      "source": [
        "# Credit Card Fraud Detection Using Autoencoders\n",
        "\n",
        "\n",
        "##Objective\n",
        "\n",
        "The objective of this assignment is to develop, train, and evaluate a fraud detection system using Autoencoders, specifically focusing on the use of simple Autoencoders and Variational Autoencoders (VAE) for anomaly detection.\n",
        "\n",
        "One of the most important areas in guarantees the security and integrity of the financial system through technological means is fraud detection in financial transactions, and in particular credit card transactions. Recently, anomaly detection techniques have attracted much attention to detect various fraudulent activities.\n",
        "\n",
        "In this report, we are going to focus on detection of fraud in Kaggle Credit Card Fraud Detection dataset using AE and VAE. Autoencoders are unsupervised neural networks that learn the normal behavior of the transactions and raise anomalies when the reconstruction error associated with a transaction is high.\n",
        "\n",
        "The goal of this study is to compare how well such deep learning models can learn the properties of non-fraudulent transactions and be able to flag the potential prevalence of fraudulent ones by an anomalous signal.\n",
        "\n",
        "In the first step, we will import all the required libraries and ensure reproducibility of our code.\n"
      ],
      "metadata": {
        "id": "1GjcFmbT7o0O"
      }
    },
    {
      "cell_type": "code",
      "execution_count": 1,
      "metadata": {
        "colab": {
          "base_uri": "https://localhost:8080/"
        },
        "id": "8EhVzFJUzawC",
        "outputId": "5ae75c6d-023a-4ded-9d73-a8b658564f8d"
      },
      "outputs": [
        {
          "output_type": "stream",
          "name": "stdout",
          "text": [
            "Using device: cuda:0\n"
          ]
        }
      ],
      "source": [
        "import numpy as np\n",
        "import pandas as pd\n",
        "import matplotlib.pyplot as plt\n",
        "import seaborn as sns\n",
        "import torch\n",
        "import torch.nn as nn\n",
        "import torch.optim as optim\n",
        "from torch.utils.data import DataLoader, Dataset, TensorDataset\n",
        "from sklearn.preprocessing import StandardScaler\n",
        "from sklearn.metrics import confusion_matrix, classification_report, accuracy_score, precision_score, recall_score, f1_score, roc_curve, roc_auc_score\n",
        "from sklearn.model_selection import StratifiedShuffleSplit\n",
        "from sklearn.model_selection import train_test_split\n",
        "import kagglehub\n",
        "import wandb\n",
        "\n",
        "\n",
        "\n",
        "# Checking for GPU availability\n",
        "device = torch.device(\"cuda:0\" if torch.cuda.is_available() else \"cpu\")\n",
        "print(f\"Using device: {device}\")\n",
        "\n",
        "# Setting seed for repeatability\n",
        "seed = 42\n",
        "np.random.seed(seed)\n",
        "torch.manual_seed(seed)\n",
        "if torch.cuda.is_available():\n",
        "    torch.cuda.manual_seed(seed)\n",
        "    torch.cuda.manual_seed_all(seed)\n",
        "\n",
        "    # Ensuring deterministic behavior for CUDA operations\n",
        "    torch.backends.cudnn.deterministic = True\n",
        "    torch.backends.cudnn.benchmark = False\n",
        "\n",
        "\n",
        "\n"
      ]
    },
    {
      "cell_type": "markdown",
      "source": [
        "Intializing Weights and Biases project for logging the metrics for this assignment"
      ],
      "metadata": {
        "id": "AROcddgL8NKp"
      }
    },
    {
      "cell_type": "code",
      "source": [
        "wandb.init(project=\"autoencoder\", entity=\"usf-alpha-neurons\", config={\n",
        "    \"epochs\": 20,\n",
        "    \"batch_size\": 64,\n",
        "    \"learning_rate\": 0.001\n",
        "})"
      ],
      "metadata": {
        "colab": {
          "base_uri": "https://localhost:8080/",
          "height": 126
        },
        "id": "Tml_6oe8RDkt",
        "outputId": "69f6b698-091a-4b29-91de-7bb920baed40"
      },
      "execution_count": 22,
      "outputs": [
        {
          "output_type": "display_data",
          "data": {
            "text/plain": [
              "<IPython.core.display.HTML object>"
            ],
            "text/html": [
              "Tracking run with wandb version 0.19.9"
            ]
          },
          "metadata": {}
        },
        {
          "output_type": "display_data",
          "data": {
            "text/plain": [
              "<IPython.core.display.HTML object>"
            ],
            "text/html": [
              "Run data is saved locally in <code>/content/wandb/run-20250407_051522-9s6pobsk</code>"
            ]
          },
          "metadata": {}
        },
        {
          "output_type": "display_data",
          "data": {
            "text/plain": [
              "<IPython.core.display.HTML object>"
            ],
            "text/html": [
              "Syncing run <strong><a href='https://wandb.ai/usf-alpha-neurons/autoencoder/runs/9s6pobsk' target=\"_blank\">true-vortex-19</a></strong> to <a href='https://wandb.ai/usf-alpha-neurons/autoencoder' target=\"_blank\">Weights & Biases</a> (<a href='https://wandb.me/developer-guide' target=\"_blank\">docs</a>)<br>"
            ]
          },
          "metadata": {}
        },
        {
          "output_type": "display_data",
          "data": {
            "text/plain": [
              "<IPython.core.display.HTML object>"
            ],
            "text/html": [
              " View project at <a href='https://wandb.ai/usf-alpha-neurons/autoencoder' target=\"_blank\">https://wandb.ai/usf-alpha-neurons/autoencoder</a>"
            ]
          },
          "metadata": {}
        },
        {
          "output_type": "display_data",
          "data": {
            "text/plain": [
              "<IPython.core.display.HTML object>"
            ],
            "text/html": [
              " View run at <a href='https://wandb.ai/usf-alpha-neurons/autoencoder/runs/9s6pobsk' target=\"_blank\">https://wandb.ai/usf-alpha-neurons/autoencoder/runs/9s6pobsk</a>"
            ]
          },
          "metadata": {}
        },
        {
          "output_type": "execute_result",
          "data": {
            "text/html": [
              "<button onClick=\"this.nextSibling.style.display='block';this.style.display='none';\">Display W&B run</button><iframe src='https://wandb.ai/usf-alpha-neurons/autoencoder/runs/9s6pobsk?jupyter=true' style='border:none;width:100%;height:420px;display:none;'></iframe>"
            ],
            "text/plain": [
              "<wandb.sdk.wandb_run.Run at 0x7d754bcb4d10>"
            ]
          },
          "metadata": {},
          "execution_count": 22
        }
      ]
    },
    {
      "cell_type": "markdown",
      "source": [
        "## Dataset Overview\n",
        "\n",
        "We have used the dataset that contains transactions made by credit cards in September 2013 by European cardholders.\n",
        "\n",
        "\n",
        "This dataset presents transactions that occurred in two days, where we have 492 frauds out of 284,807 transactions. The dataset is highly unbalanced, the positive class (frauds) account for 0.172% of all transactions. Thus making it a good choice for anomaly detection.\n"
      ],
      "metadata": {
        "id": "sa19-MeO8ihv"
      }
    },
    {
      "cell_type": "code",
      "source": [
        "# Downloading the dataset from Kaggle\n",
        "path = kagglehub.dataset_download(\"mlg-ulb/creditcardfraud\")\n",
        "print(\"Path to dataset files:\", path)\n",
        "df = pd.read_csv(f'{path}/creditcard.csv')\n",
        "\n",
        "print(\"Dataset shape:\", df.shape)\n",
        "print(df.head())"
      ],
      "metadata": {
        "colab": {
          "base_uri": "https://localhost:8080/"
        },
        "id": "4bpC8E_Z0AvF",
        "outputId": "295d141c-4dfd-4db9-8eaa-a81e4eb98f29"
      },
      "execution_count": 3,
      "outputs": [
        {
          "output_type": "stream",
          "name": "stdout",
          "text": [
            "Path to dataset files: /kaggle/input/creditcardfraud\n",
            "Dataset shape: (284807, 31)\n",
            "   Time        V1        V2        V3        V4        V5        V6        V7  \\\n",
            "0   0.0 -1.359807 -0.072781  2.536347  1.378155 -0.338321  0.462388  0.239599   \n",
            "1   0.0  1.191857  0.266151  0.166480  0.448154  0.060018 -0.082361 -0.078803   \n",
            "2   1.0 -1.358354 -1.340163  1.773209  0.379780 -0.503198  1.800499  0.791461   \n",
            "3   1.0 -0.966272 -0.185226  1.792993 -0.863291 -0.010309  1.247203  0.237609   \n",
            "4   2.0 -1.158233  0.877737  1.548718  0.403034 -0.407193  0.095921  0.592941   \n",
            "\n",
            "         V8        V9  ...       V21       V22       V23       V24       V25  \\\n",
            "0  0.098698  0.363787  ... -0.018307  0.277838 -0.110474  0.066928  0.128539   \n",
            "1  0.085102 -0.255425  ... -0.225775 -0.638672  0.101288 -0.339846  0.167170   \n",
            "2  0.247676 -1.514654  ...  0.247998  0.771679  0.909412 -0.689281 -0.327642   \n",
            "3  0.377436 -1.387024  ... -0.108300  0.005274 -0.190321 -1.175575  0.647376   \n",
            "4 -0.270533  0.817739  ... -0.009431  0.798278 -0.137458  0.141267 -0.206010   \n",
            "\n",
            "        V26       V27       V28  Amount  Class  \n",
            "0 -0.189115  0.133558 -0.021053  149.62      0  \n",
            "1  0.125895 -0.008983  0.014724    2.69      0  \n",
            "2 -0.139097 -0.055353 -0.059752  378.66      0  \n",
            "3 -0.221929  0.062723  0.061458  123.50      0  \n",
            "4  0.502292  0.219422  0.215153   69.99      0  \n",
            "\n",
            "[5 rows x 31 columns]\n"
          ]
        }
      ]
    },
    {
      "cell_type": "markdown",
      "source": [
        "In this section, we performed some Exploratory Data Analysis to check for missing values, the class distribution and other statistics."
      ],
      "metadata": {
        "id": "kivL-j6Y_lmI"
      }
    },
    {
      "cell_type": "code",
      "source": [
        "# Check for null values\n",
        "print(\"\\nMissing values:\")\n",
        "print(df.isnull().sum())\n",
        "\n",
        "# Class distribution\n",
        "sns.countplot(x='Class', data=df)\n",
        "plt.title('Class Distribution')\n",
        "plt.xlabel('Class (0: Non-Fraud, 1: Fraud)')\n",
        "plt.ylabel('Count')\n",
        "plt.show()\n",
        "\n",
        "# Describe statistics\n",
        "print(\"\\nDescriptive statistics:\")\n",
        "print(df.describe())\n",
        "\n",
        "\n",
        "\n",
        "# Time-based transaction distribution\n",
        "plt.figure(figsize=(10, 4))\n",
        "sns.histplot(df['Time'], bins=50, kde=True)\n",
        "plt.title('Distribution of Transactions Over Time (seconds)')\n",
        "plt.xlabel('Time')\n",
        "plt.ylabel('Count')\n",
        "plt.show()"
      ],
      "metadata": {
        "colab": {
          "base_uri": "https://localhost:8080/",
          "height": 1000
        },
        "id": "gVG3Qi8p0QaX",
        "outputId": "ab7e9cc6-0a83-49f8-b506-3dac38ad3d7b"
      },
      "execution_count": 4,
      "outputs": [
        {
          "output_type": "stream",
          "name": "stdout",
          "text": [
            "\n",
            "Missing values:\n",
            "Time      0\n",
            "V1        0\n",
            "V2        0\n",
            "V3        0\n",
            "V4        0\n",
            "V5        0\n",
            "V6        0\n",
            "V7        0\n",
            "V8        0\n",
            "V9        0\n",
            "V10       0\n",
            "V11       0\n",
            "V12       0\n",
            "V13       0\n",
            "V14       0\n",
            "V15       0\n",
            "V16       0\n",
            "V17       0\n",
            "V18       0\n",
            "V19       0\n",
            "V20       0\n",
            "V21       0\n",
            "V22       0\n",
            "V23       0\n",
            "V24       0\n",
            "V25       0\n",
            "V26       0\n",
            "V27       0\n",
            "V28       0\n",
            "Amount    0\n",
            "Class     0\n",
            "dtype: int64\n"
          ]
        },
        {
          "output_type": "display_data",
          "data": {
            "text/plain": [
              "<Figure size 640x480 with 1 Axes>"
            ],
            "image/png": "[encoded data removed]"
          },
          "metadata": {}
        },
        {
          "output_type": "stream",
          "name": "stdout",
          "text": [
            "\n",
            "Descriptive statistics:\n",
            "                Time            V1            V2            V3            V4  \\\n",
            "count  284807.000000  2.848070e+05  2.848070e+05  2.848070e+05  2.848070e+05   \n",
            "mean    94813.859575  1.168375e-15  3.416908e-16 -1.379537e-15  2.074095e-15   \n",
            "std     47488.145955  1.958696e+00  1.651309e+00  1.516255e+00  1.415869e+00   \n",
            "min         0.000000 -5.640751e+01 -7.271573e+01 -4.832559e+01 -5.683171e+00   \n",
            "25%     54201.500000 -9.203734e-01 -5.985499e-01 -8.903648e-01 -8.486401e-01   \n",
            "50%     84692.000000  1.810880e-02  6.548556e-02  1.798463e-01 -1.984653e-02   \n",
            "75%    139320.500000  1.315642e+00  8.037239e-01  1.027196e+00  7.433413e-01   \n",
            "max    172792.000000  2.454930e+00  2.205773e+01  9.382558e+00  1.687534e+01   \n",
            "\n",
            "                 V5            V6            V7            V8            V9  \\\n",
            "count  2.848070e+05  2.848070e+05  2.848070e+05  2.848070e+05  2.848070e+05   \n",
            "mean   9.604066e-16  1.487313e-15 -5.556467e-16  1.213481e-16 -2.406331e-15   \n",
            "std    1.380247e+00  1.332271e+00  1.237094e+00  1.194353e+00  1.098632e+00   \n",
            "min   -1.137433e+02 -2.616051e+01 -4.355724e+01 -7.321672e+01 -1.343407e+01   \n",
            "25%   -6.915971e-01 -7.682956e-01 -5.540759e-01 -2.086297e-01 -6.430976e-01   \n",
            "50%   -5.433583e-02 -2.741871e-01  4.010308e-02  2.235804e-02 -5.142873e-02   \n",
            "75%    6.119264e-01  3.985649e-01  5.704361e-01  3.273459e-01  5.971390e-01   \n",
            "max    3.480167e+01  7.330163e+01  1.205895e+02  2.000721e+01  1.559499e+01   \n",
            "\n",
            "       ...           V21           V22           V23           V24  \\\n",
            "count  ...  2.848070e+05  2.848070e+05  2.848070e+05  2.848070e+05   \n",
            "mean   ...  1.654067e-16 -3.568593e-16  2.578648e-16  4.473266e-15   \n",
            "std    ...  7.345240e-01  7.257016e-01  6.244603e-01  6.056471e-01   \n",
            "min    ... -3.483038e+01 -1.093314e+01 -4.480774e+01 -2.836627e+00   \n",
            "25%    ... -2.283949e-01 -5.423504e-01 -1.618463e-01 -3.545861e-01   \n",
            "50%    ... -2.945017e-02  6.781943e-03 -1.119293e-02  4.097606e-02   \n",
            "75%    ...  1.863772e-01  5.285536e-01  1.476421e-01  4.395266e-01   \n",
            "max    ...  2.720284e+01  1.050309e+01  2.252841e+01  4.584549e+00   \n",
            "\n",
            "                V25           V26           V27           V28         Amount  \\\n",
            "count  2.848070e+05  2.848070e+05  2.848070e+05  2.848070e+05  284807.000000   \n",
            "mean   5.340915e-16  1.683437e-15 -3.660091e-16 -1.227390e-16      88.349619   \n",
            "std    5.212781e-01  4.822270e-01  4.036325e-01  3.300833e-01     250.120109   \n",
            "min   -1.029540e+01 -2.604551e+00 -2.256568e+01 -1.543008e+01       0.000000   \n",
            "25%   -3.171451e-01 -3.269839e-01 -7.083953e-02 -5.295979e-02       5.600000   \n",
            "50%    1.659350e-02 -5.213911e-02  1.342146e-03  1.124383e-02      22.000000   \n",
            "75%    3.507156e-01  2.409522e-01  9.104512e-02  7.827995e-02      77.165000   \n",
            "max    7.519589e+00  3.517346e+00  3.161220e+01  3.384781e+01   25691.160000   \n",
            "\n",
            "               Class  \n",
            "count  284807.000000  \n",
            "mean        0.001727  \n",
            "std         0.041527  \n",
            "min         0.000000  \n",
            "25%         0.000000  \n",
            "50%         0.000000  \n",
            "75%         0.000000  \n",
            "max         1.000000  \n",
            "\n",
            "[8 rows x 31 columns]\n"
          ]
        },
        {
          "output_type": "display_data",
          "data": {
            "text/plain": [
              "<Figure size 1000x400 with 1 Axes>"
            ],
            "image/png": "[encoded data removed]"
          },
          "metadata": {}
        }
      ]
    },
    {
      "cell_type": "markdown",
      "source": [
        "From the Graphs and other metrics we can confirm, that there are no missing records.\n",
        "and the data is highly imbalanced. We have maxmimum non-fraud transactions and very few Fraud transaction.\n",
        "But since, we are performing Anomaly Detection, this works in our favour.\n",
        "Although, we will have to look at the evaluation metrics to infer proper results."
      ],
      "metadata": {
        "id": "uprqgrKr6bJy"
      }
    },
    {
      "cell_type": "markdown",
      "source": [
        "## Data Preprocessing\n",
        "In this step, we have normalized the data. Scaled the features using StandardScaler.\n",
        "We will training our anomaly detection model only on good non-fraud data.\n",
        "For testing we will be combining both fraud and non-fraud data. We will then convert the trainind and testing data into tensors using dataloaders."
      ],
      "metadata": {
        "id": "65URoZd9_wvl"
      }
    },
    {
      "cell_type": "code",
      "source": [
        "\n",
        "# Normalizing dataset\n",
        "features = df.drop(columns=['Class'])\n",
        "scaler = StandardScaler()\n",
        "features_scaled = scaler.fit_transform(features)\n",
        "\n",
        "# Getting target values\n",
        "y_np = df['Class'].values\n",
        "\n",
        "# Selecting only non-fraud samples for training\n",
        "non_fraud_indices = np.where(y_np == 0)[0]\n",
        "fraud_indices = np.where(y_np == 1)[0]\n",
        "\n",
        "X_non_fraud = features_scaled[non_fraud_indices]\n",
        "y_non_fraud = y_np[non_fraud_indices]\n",
        "\n",
        "X_fraud = features_scaled[fraud_indices]\n",
        "y_fraud = y_np[fraud_indices]\n",
        "\n",
        "# Splitting the non-fraud data into training and testing\n",
        "X_train, X_test_normal, y_train, y_test_normal = train_test_split(\n",
        "    X_non_fraud, y_non_fraud, test_size=0.2, random_state=42\n",
        ")\n",
        "\n",
        "# Combining both fraud and non-fraud data for testing\n",
        "X_test = np.concatenate((X_test_normal, X_fraud), axis=0)\n",
        "y_test = np.concatenate((y_test_normal, y_fraud), axis=0)\n",
        "\n",
        "# Converting to tensors\n",
        "X_train_tensor = torch.tensor(X_train, dtype=torch.float32)\n",
        "y_train_tensor = torch.tensor(y_train, dtype=torch.float32)\n",
        "\n",
        "X_test_tensor = torch.tensor(X_test, dtype=torch.float32)\n",
        "y_test_tensor = torch.tensor(y_test, dtype=torch.float32)\n",
        "\n",
        "# Creating datasets and loaders\n",
        "train_dataset = TensorDataset(X_train_tensor, y_train_tensor)\n",
        "test_dataset = TensorDataset(X_test_tensor, y_test_tensor)\n",
        "\n",
        "train_loader = DataLoader(train_dataset, batch_size=64, shuffle=True)\n",
        "test_loader = DataLoader(test_dataset, batch_size=64, shuffle=False)\n"
      ],
      "metadata": {
        "id": "mpTS3AVhWbvP"
      },
      "execution_count": 5,
      "outputs": []
    },
    {
      "cell_type": "markdown",
      "source": [
        "## Model Architecture and definition\n",
        "### Simple Autoencoder\n",
        "We will be using Autoencoders for Anomaly detection. It will comprise of\n",
        "* Compresses the input into a smaller format (Encoder).\n",
        "\n",
        "* Reconstructs it back to the original form (Decoder).\n",
        "\n",
        "The model learns to reconstruct normal (non-fraud) transactions well."
      ],
      "metadata": {
        "id": "HRN20yjWmITI"
      }
    },
    {
      "cell_type": "code",
      "source": [
        "# Defining the simple Autoencoder model\n",
        "class Autoencoder(nn.Module):\n",
        "    def __init__(self, input_size):\n",
        "        super(Autoencoder, self).__init__()\n",
        "        self.encoder = nn.Sequential(\n",
        "            nn.Linear(input_size, 32),\n",
        "            nn.ReLU(),\n",
        "            nn.Linear(32, 16),\n",
        "            nn.ReLU(),\n",
        "            nn.Linear(16, 8),\n",
        "        )\n",
        "\n",
        "        self.decoder = nn.Sequential(\n",
        "            nn.Linear(8, 16),\n",
        "            nn.ReLU(),\n",
        "            nn.Linear(16, 32),\n",
        "            nn.ReLU(),\n",
        "            nn.Linear(32, input_size),\n",
        "            nn.Sigmoid()\n",
        "        )\n",
        "\n",
        "    def forward(self, x):\n",
        "        encoded = self.encoder(x)\n",
        "        decoded = self.decoder(encoded)\n",
        "        return decoded\n"
      ],
      "metadata": {
        "id": "-9wlwbGQ4czi"
      },
      "execution_count": 6,
      "outputs": []
    },
    {
      "cell_type": "markdown",
      "source": [
        "### Model Training\n",
        "In this step, we are training our Autoencoder model on the training data to minimize the reconstruction error.\n",
        "* We are using Mean Squared Error (MSE) Loss  as the loss function.The MSE loss measures the squared differences between the input data and the model's predictions.\n",
        "* The Optimizer used is Adam optimizer\n",
        "* The learning rate is set to 0.001\n",
        "* The model will be trained for 20 epochs and input will be processed in batches\n",
        "\n",
        "\n"
      ],
      "metadata": {
        "id": "5TunTGlmmtIw"
      }
    },
    {
      "cell_type": "code",
      "source": [
        "# Initializing model, loss function and optimizer\n",
        "model = Autoencoder(input_size=X_train_tensor.shape[1]).to(device)\n",
        "criterion = nn.MSELoss()\n",
        "optimizer = optim.Adam(model.parameters(), lr=0.001)\n",
        "\n",
        "# Training the model\n",
        "num_epochs = 20\n",
        "for epoch in range(num_epochs):\n",
        "    model.train()\n",
        "    total_loss = 0\n",
        "    for batch_X, _ in train_loader:\n",
        "        batch_X = batch_X.to(device)\n",
        "\n",
        "        # Forward pass\n",
        "        outputs = model(batch_X)\n",
        "        loss = criterion(outputs, batch_X)\n",
        "\n",
        "        # Backward pass and optimization\n",
        "        optimizer.zero_grad()\n",
        "        loss.backward()\n",
        "        optimizer.step()\n",
        "\n",
        "        total_loss += loss.item()\n",
        "\n",
        "    avg_loss = total_loss / len(train_loader)\n",
        "    wandb.log({\"epoch\": epoch+1, \"loss\": avg_loss})\n",
        "    print(f'Epoch [{epoch+1}/{num_epochs}], Loss: {avg_loss:.4f}')\n"
      ],
      "metadata": {
        "colab": {
          "base_uri": "https://localhost:8080/"
        },
        "id": "nWDLWBQb4rXu",
        "outputId": "aecab0b4-23e3-4ab2-c545-0acd59c27562"
      },
      "execution_count": 16,
      "outputs": [
        {
          "output_type": "stream",
          "name": "stdout",
          "text": [
            "Epoch [1/20], Loss: 0.8639\n",
            "Epoch [2/20], Loss: 0.7959\n",
            "Epoch [3/20], Loss: 0.7745\n",
            "Epoch [4/20], Loss: 0.7616\n",
            "Epoch [5/20], Loss: 0.7504\n",
            "Epoch [6/20], Loss: 0.7458\n",
            "Epoch [7/20], Loss: 0.7430\n",
            "Epoch [8/20], Loss: 0.7406\n",
            "Epoch [9/20], Loss: 0.7388\n",
            "Epoch [10/20], Loss: 0.7369\n",
            "Epoch [11/20], Loss: 0.7351\n",
            "Epoch [12/20], Loss: 0.7330\n",
            "Epoch [13/20], Loss: 0.7308\n",
            "Epoch [14/20], Loss: 0.7296\n",
            "Epoch [15/20], Loss: 0.7263\n",
            "Epoch [16/20], Loss: 0.7246\n",
            "Epoch [17/20], Loss: 0.7236\n",
            "Epoch [18/20], Loss: 0.7228\n",
            "Epoch [19/20], Loss: 0.7219\n",
            "Epoch [20/20], Loss: 0.7213\n"
          ]
        }
      ]
    },
    {
      "cell_type": "markdown",
      "source": [
        "From the above training Loss metrics we can infer that training loss steadily decreases from 0.8639 to 0.7213 over 20 epochs, indicating that the model is learning effectively and improving its reconstruction accuracy over time.\n",
        "\n",
        "\n",
        "The gradual decline and stabilization of the loss suggest good convergence without signs of overfitting or instability"
      ],
      "metadata": {
        "id": "aaqQPEHl7PSX"
      }
    },
    {
      "cell_type": "markdown",
      "source": [
        "### Model Evaluation\n",
        "\n",
        "The Autoencoder model is evaluated on the test set, and reconstruction errors are used to set a threshold for anomaly detection. Predictions are made based on whether errors exceed this threshold.\n",
        "\n",
        "* Key metrics (accuracy, precision, recall, F1 score, and AUC) are calculated, and the confusion matrix and ROC curve are visualized to assess model performance.\n",
        "* Since, we have imbalance in our data, we will be using Weighted Precision instead of actual precision for evaluation the precision of our model.\n",
        "* We saved the model and logged to Weights and Biases as an artifact."
      ],
      "metadata": {
        "id": "Jj464uIJnmUr"
      }
    },
    {
      "cell_type": "code",
      "source": [
        "from sklearn.metrics import roc_curve, roc_auc_score\n",
        "from sklearn.metrics import accuracy_score, precision_score, recall_score, f1_score\n",
        "# Evaluating the model\n",
        "model.eval()\n",
        "losses = []\n",
        "with torch.no_grad():\n",
        "    for batch_X, _ in test_loader:\n",
        "        batch_X = batch_X.to(device)\n",
        "        outputs = model(batch_X)\n",
        "        loss = criterion(outputs, batch_X)\n",
        "        losses.append(loss.item())\n",
        "\n",
        "threshold = np.mean(losses) + np.std(losses)\n",
        "print(f'Threshold for anomaly detection: {threshold:.4f}')\n",
        "\n",
        "# Generating predictions\n",
        "y_pred = []\n",
        "y_true = []\n",
        "reconstruction_errors = []\n",
        "true_labels = []\n",
        "\n",
        "with torch.no_grad():\n",
        "    for batch_X, labels in test_loader:\n",
        "        batch_X = batch_X.to(device)\n",
        "        outputs = model(batch_X)\n",
        "        loss = criterion(outputs, batch_X)\n",
        "\n",
        "        sample_loss = torch.mean((batch_X - outputs) ** 2, dim=1)\n",
        "        reconstruction_errors.extend(sample_loss.cpu().numpy())\n",
        "        true_labels.extend(labels.cpu().numpy())\n",
        "\n",
        "        for l in sample_loss:\n",
        "            y_pred.append(1 if l.item() > threshold else 0)\n",
        "        y_true.extend(labels.cpu().numpy())\n",
        "\n",
        "# Evaluation Metrics\n",
        "print(classification_report(y_true, y_pred))\n",
        "cm = confusion_matrix(y_true, y_pred)\n",
        "sns.heatmap(cm, annot=True, fmt='d',cmap=\"Blues\")\n",
        "plt.title('Confusion Matrix')\n",
        "plt.xlabel('Predicted')\n",
        "plt.ylabel('True')\n",
        "plt.show()\n",
        "\n",
        "# Computing metrics\n",
        "accuracy = accuracy_score(y_true, y_pred)\n",
        "precision_actual= precision_score(y_true, y_pred)\n",
        "precision = precision_score(y_true, y_pred, average=\"weighted\")\n",
        "recall = recall_score(y_true, y_pred)\n",
        "f1 = f1_score(y_true, y_pred)\n",
        "\n",
        "print(f\"Accuracy: {accuracy:.4f}\")\n",
        "print(f\"Actual Precision: {precision_actual: .4f}\")\n",
        "print(f\"Precision Weighted: {precision:.4f}\")\n",
        "print(f\"Recall: {recall:.4f}\")\n",
        "print(f\"F1 Score: {f1:.4f}\")\n",
        "\n",
        "# ROC and AUC\n",
        "fpr, tpr, thresholds = roc_curve(true_labels, reconstruction_errors)\n",
        "auc_score = roc_auc_score(true_labels, reconstruction_errors)\n",
        "print(f\"ROC AUC Score: {auc_score:.4f}\")\n",
        "\n",
        "plt.figure(figsize=(8, 6))\n",
        "plt.plot(fpr, tpr, label=f'AUC = {auc_score:.4f}')\n",
        "plt.plot([0, 1], [0, 1], 'k--', label='Random Chance')\n",
        "plt.xlabel('False Positive Rate')\n",
        "plt.ylabel('True Positive Rate')\n",
        "plt.title('ROC Curve for Anomaly Detection')\n",
        "plt.legend(loc='lower right')\n",
        "plt.grid(True)\n",
        "plt.show()\n",
        "# Logginge metrics to weights and Biases\n",
        "wandb.log({\n",
        "    \"accuracy\": accuracy,\n",
        "    \"precision\": precision,\n",
        "    \"recall\": recall,\n",
        "    \"f1_score\": f1,\n",
        "    \"auc_score\": auc_score,\n",
        "    \"anomaly_threshold\": threshold,\n",
        "    \"confusion_matrix\": wandb.plot.confusion_matrix(\n",
        "        probs=None,\n",
        "        y_true=y_true,\n",
        "        preds=y_pred,\n",
        "        class_names=[\"Non-Fraud\", \"Fraud\"]\n",
        "    )\n",
        "})\n",
        "\n",
        "\n",
        "\n",
        "model_path = \"autoencoder_model.pth\"\n",
        "torch.save(model.state_dict(), model_path)\n",
        "\n",
        "# Saving the model as a Weights and Biases artifact\n",
        "artifact = wandb.Artifact(\"autoencoder-fraud-model\", type=\"model\")\n",
        "artifact.add_file(model_path)\n",
        "wandb.log_artifact(artifact)\n",
        "print(\"Model saved and logged as W&B artifact.\")\n",
        "wandb.finish()\n"
      ],
      "metadata": {
        "colab": {
          "base_uri": "https://localhost:8080/",
          "height": 1000
        },
        "id": "JqBvr7SA6Iwh",
        "outputId": "9d8b31b4-bb65-44c0-f222-4986e276ccb4"
      },
      "execution_count": 18,
      "outputs": [
        {
          "output_type": "stream",
          "name": "stdout",
          "text": [
            "Threshold for anomaly detection: 3.5148\n",
            "              precision    recall  f1-score   support\n",
            "\n",
            "         0.0       1.00      0.98      0.99     56863\n",
            "         1.0       0.28      0.81      0.42       492\n",
            "\n",
            "    accuracy                           0.98     57355\n",
            "   macro avg       0.64      0.90      0.70     57355\n",
            "weighted avg       0.99      0.98      0.99     57355\n",
            "\n"
          ]
        },
        {
          "output_type": "display_data",
          "data": {
            "text/plain": [
              "<Figure size 640x480 with 2 Axes>"
            ],
            "image/png": "[encoded data removed]"
          },
          "metadata": {}
        },
        {
          "output_type": "stream",
          "name": "stdout",
          "text": [
            "Accuracy: 0.9808\n",
            "Actual Precision:  0.2829\n",
            "Precision Weighted: 0.9922\n",
            "Recall: 0.8089\n",
            "F1 Score: 0.4192\n",
            "ROC AUC Score: 0.9525\n"
          ]
        },
        {
          "output_type": "display_data",
          "data": {
            "text/plain": [
              "<Figure size 800x600 with 1 Axes>"
            ],
            "image/png": "[encoded data removed]"
          },
          "metadata": {}
        },
        {
          "output_type": "stream",
          "name": "stdout",
          "text": [
            "Model saved and logged as W&B artifact.\n"
          ]
        },
        {
          "output_type": "display_data",
          "data": {
            "text/plain": [
              "<IPython.core.display.HTML object>"
            ],
            "text/html": []
          },
          "metadata": {}
        },
        {
          "output_type": "display_data",
          "data": {
            "text/plain": [
              "<IPython.core.display.HTML object>"
            ],
            "text/html": [
              "<br>    <style><br>        .wandb-row {<br>            display: flex;<br>            flex-direction: row;<br>            flex-wrap: wrap;<br>            justify-content: flex-start;<br>            width: 100%;<br>        }<br>        .wandb-col {<br>            display: flex;<br>            flex-direction: column;<br>            flex-basis: 100%;<br>            flex: 1;<br>            padding: 10px;<br>        }<br>    </style><br><div class=\"wandb-row\"><div class=\"wandb-col\"><h3>Run history:</h3><br/><table class=\"wandb\"><tr><td>accuracy</td><td>▁</td></tr><tr><td>anomaly_threshold</td><td>▁</td></tr><tr><td>auc_score</td><td>▁</td></tr><tr><td>epoch</td><td>▁▁▂▂▂▃▃▄▄▁▁▂▂▂▃▃▄▄▄▅▅▅▆▆▇▇▇██</td></tr><tr><td>f1_score</td><td>▁</td></tr><tr><td>loss</td><td>█▅▄▃▂▂▂▂▂▂▂▂▁▁▁▁▁▁▁▁</td></tr><tr><td>precision</td><td>▁</td></tr><tr><td>recall</td><td>▁</td></tr><tr><td>vae_train_loss</td><td>█▁▁▁▁▁▁▁▁</td></tr></table><br/></div><div class=\"wandb-col\"><h3>Run summary:</h3><br/><table class=\"wandb\"><tr><td>accuracy</td><td>0.98077</td></tr><tr><td>anomaly_threshold</td><td>3.51482</td></tr><tr><td>auc_score</td><td>0.95251</td></tr><tr><td>epoch</td><td>20</td></tr><tr><td>f1_score</td><td>0.41917</td></tr><tr><td>loss</td><td>0.72129</td></tr><tr><td>precision</td><td>0.99218</td></tr><tr><td>recall</td><td>0.80894</td></tr><tr><td>vae_train_loss</td><td>0.9624</td></tr></table><br/></div></div>"
            ]
          },
          "metadata": {}
        },
        {
          "output_type": "display_data",
          "data": {
            "text/plain": [
              "<IPython.core.display.HTML object>"
            ],
            "text/html": [
              " View run <strong style=\"color:#cdcd00\">distinctive-microwave-18</strong> at: <a href='https://wandb.ai/usf-alpha-neurons/autoencoder/runs/swrsxphu' target=\"_blank\">https://wandb.ai/usf-alpha-neurons/autoencoder/runs/swrsxphu</a><br> View project at: <a href='https://wandb.ai/usf-alpha-neurons/autoencoder' target=\"_blank\">https://wandb.ai/usf-alpha-neurons/autoencoder</a><br>Synced 5 W&B file(s), 1 media file(s), 4 artifact file(s) and 0 other file(s)"
            ]
          },
          "metadata": {}
        },
        {
          "output_type": "display_data",
          "data": {
            "text/plain": [
              "<IPython.core.display.HTML object>"
            ],
            "text/html": [
              "Find logs at: <code>./wandb/run-20250407_050409-swrsxphu/logs</code>"
            ]
          },
          "metadata": {}
        }
      ]
    },
    {
      "cell_type": "markdown",
      "source": [
        "### Simple Autoencoder Model Evaluation Results\n",
        "* **Anomaly Threshold** is the value above which the reconstruction error is considered high enough to classify the transaction as fraud.In this case, any transaction with a reconstruction error greater than **3.53673** is flagged as fraud.\n",
        "* **Accuracy** is the proportion of correctly predicted instances (both non-fraud and fraud) out of the total instances.  We have **98.1% accuracy**for our model which is great. But can also be due to imbalance in our dataset.\n",
        "* **AUC (Area Under the Curve)** represents the performance of the model in terms of its ability to distinguish between fraud and non-fraud transactions. Our ** AUC score of 0.95 is excellent and shows that the model does a great job of distinguishing between fraud and non-fraud.**\n",
        "* **The F1 score is 0.42**, which indicates that while the model is able to correctly identify some fraudulent transactions, its ability to balance precision and recall is relatively poor. This could be due to the model being conservative in labeling transactions as fraud (resulting in more false positives).\n",
        "* A **loss of 0.71789** means that, on average, the reconstruction error of the Autoencoder model is 0.71789.\n",
        "* **Precision** is the proportion of true positives (fraud correctly identified) out of all instances predicted as fraud. In this case, **28.5% of the transactions flagged as fraud were actually fraud.**\n",
        "* Since, we have a highly imbalanced dataset, we will be using **Weighted Precision* which is 0.99.** Weighted Precision averages the precision for each class (fraud and non-fraud), weighted by the number of true instances in each class. It means that overall, considering both classes,** the model was 99.22% precise in its predictions.** This is y good in datasets like ours  [credit card fraud] where the number of fraud cases is very low compared to non-fraud—the model is doing a great job of avoiding false positives while still catching actual frauds.\n",
        "* **Recall** is the proportion of true positives (fraud cases) correctly identified by the model out of all the actual fraud cases. Here, the model has **a recall of 80.7%, which is quite good, indicating that it successfully identifies a large proportion of fraudulent transactions.**\n",
        "\n",
        "### Conclusion for Simple Autoencoder\n",
        "\n",
        "Our model is performing well on all the evaluation metrics and can be considered a good model for credit card fraud detection. Our model was able to reconstruct good data effectively and was able to identify the fraudulent records precisely.\n",
        "\n",
        "But, considering this dataset is clean, with no missing records and widely used with not many complex parameters.\n",
        "\n",
        "So, we will also define another type of autoencoder to train our model and check the evaluation metrics for them.\n"
      ],
      "metadata": {
        "id": "2gujA_4goXQi"
      }
    },
    {
      "cell_type": "markdown",
      "source": [
        "### Variational Autoencoder\n",
        "We are using variational autoencoder to improve our model.\n",
        "\n",
        "Variational Autoencoders (VAEs) are effective for credit card fraud detection because they excel at anomaly detection and work well with imbalanced and unlabeled data, which are common in fraud detection scenarios.\n",
        "\n",
        "It consists of:\n",
        "\n",
        "**Encoder**: Compresses the input into a latent space using two fully connected layers, producing two outputs—mean (mu) and log-variance (logvar) for each input sample.\n",
        "\n",
        "**Reparameterization**: Samples a latent vector z from the learned distribution using mu and logvar, allowing backpropagation through stochastic variables.\n",
        "\n",
        "**Decoder**: Reconstructs the input from the latent vector z using two fully connected layers and an output layer.\n",
        "\n",
        "**Forward Pass**: Returns the reconstructed input along with mu and logvar to compute the total VAE loss (reconstruction + KL divergence)."
      ],
      "metadata": {
        "id": "BcNDKKf6o4BO"
      }
    },
    {
      "cell_type": "code",
      "source": [
        "import torch.nn.functional as F\n",
        "#Defining the variational Autoencoder Model\n",
        "class VAE(nn.Module):\n",
        "    def __init__(self, input_dim, latent_dim):\n",
        "        super(VAE, self).__init__()\n",
        "        self.encoder_fc1 = nn.Linear(input_dim, 64)\n",
        "        self.encoder_fc2 = nn.Linear(64, 32)\n",
        "\n",
        "        self.fc_mu = nn.Linear(32, latent_dim)\n",
        "        self.fc_logvar = nn.Linear(32, latent_dim)\n",
        "\n",
        "        self.decoder_fc1 = nn.Linear(latent_dim, 32)\n",
        "        self.decoder_fc2 = nn.Linear(32, 64)\n",
        "        self.decoder_out = nn.Linear(64, input_dim)\n",
        "\n",
        "    def encode(self, x):\n",
        "        h = F.relu(self.encoder_fc1(x))\n",
        "        h = F.relu(self.encoder_fc2(h))\n",
        "        mu = self.fc_mu(h)\n",
        "        logvar = self.fc_logvar(h)\n",
        "        return mu, logvar\n",
        "\n",
        "    def reparameterize(self, mu, logvar):\n",
        "        std = torch.exp(0.5 * logvar)\n",
        "        eps = torch.randn_like(std)\n",
        "        return mu + eps * std  # z\n",
        "\n",
        "    def decode(self, z):\n",
        "        h = F.relu(self.decoder_fc1(z))\n",
        "        h = F.relu(self.decoder_fc2(h))\n",
        "        return self.decoder_out(h)\n",
        "\n",
        "    def forward(self, x):\n",
        "        mu, logvar = self.encode(x)\n",
        "        z = self.reparameterize(mu, logvar)\n",
        "        reconstructed = self.decode(z)\n",
        "        return reconstructed, mu, logvar\n"
      ],
      "metadata": {
        "id": "DP_Y8FF24atz"
      },
      "execution_count": 19,
      "outputs": []
    },
    {
      "cell_type": "markdown",
      "source": [
        "**vae_loss function** computes the loss for a Variational Autoencoder (VAE) by combining two components: the reconstruction loss and the Kullback-Leibler (KL) divergence.\n",
        "* The reconstruction loss, calculated using mean squared error (MSE), measures how well the model reconstructs the input data.\n",
        "* The KL divergence regularizes the latent space by ensuring that the learned distribution (with mean mu and variance logvar) approximates a standard normal distribution.\n",
        "* The total VAE loss is the sum of these two components, encouraging accurate data reconstruction while maintaining a smooth and meaningful latent space, which is crucial for tasks like anomaly detection in fraud detection."
      ],
      "metadata": {
        "id": "G0KLkc7drd6v"
      }
    },
    {
      "cell_type": "code",
      "source": [
        "def vae_loss(reconstructed, original, mu, logvar):\n",
        "    recon_loss = F.mse_loss(reconstructed, original, reduction='mean')\n",
        "    kl_div = -0.5 * torch.sum(1 + logvar - mu.pow(2) - logvar.exp()) / original.size(0)\n",
        "    return recon_loss + kl_div\n"
      ],
      "metadata": {
        "id": "BhenyGJ6MtYG"
      },
      "execution_count": 20,
      "outputs": []
    },
    {
      "cell_type": "markdown",
      "source": [
        "### Training VAE model\n",
        "* Epochs : 10 epochs\n",
        "* Loss Function : Reconstruction loss + KL divergence\n",
        "* Optimizer : Adam Optimizer\n",
        "\n"
      ],
      "metadata": {
        "id": "N4ilHUX_DBUZ"
      }
    },
    {
      "cell_type": "code",
      "source": [
        "model = VAE(input_dim=X_train.shape[1], latent_dim=16).to(device)\n",
        "optimizer = torch.optim.Adam(model.parameters(), lr=1e-3)\n",
        "\n",
        "epochs = 10\n",
        "for epoch in range(epochs):\n",
        "    model.train()\n",
        "    train_loss = 0\n",
        "    for batch in train_loader:\n",
        "        inputs = batch[0].to(device)\n",
        "        optimizer.zero_grad()\n",
        "        recon, mu, logvar = model(inputs)\n",
        "        loss = vae_loss(recon, inputs, mu, logvar)\n",
        "        loss.backward()\n",
        "        optimizer.step()\n",
        "        train_loss += loss.item()\n",
        "\n",
        "    avg_loss = train_loss / len(train_loader)\n",
        "\n",
        "    print(f\"Epoch [{epoch+1}/{epochs}], Loss: {avg_loss:.5f}\")\n",
        "\n",
        "    # Log to W&B\n",
        "    wandb.log({\"epoch\": epoch+1, \"vae_train_loss\": avg_loss})\n"
      ],
      "metadata": {
        "colab": {
          "base_uri": "https://localhost:8080/"
        },
        "id": "Eo6TnA2cMwr8",
        "outputId": "0c43bac4-8f4e-451e-89b1-02649f256bf4"
      },
      "execution_count": 23,
      "outputs": [
        {
          "output_type": "stream",
          "name": "stdout",
          "text": [
            "Epoch [1/10], Loss: 0.96447\n",
            "Epoch [2/10], Loss: 0.96243\n",
            "Epoch [3/10], Loss: 0.96247\n",
            "Epoch [4/10], Loss: 0.96241\n",
            "Epoch [5/10], Loss: 0.96241\n",
            "Epoch [6/10], Loss: 0.96240\n",
            "Epoch [7/10], Loss: 0.96241\n",
            "Epoch [8/10], Loss: 0.96240\n",
            "Epoch [9/10], Loss: 0.96240\n",
            "Epoch [10/10], Loss: 0.96241\n"
          ]
        }
      ]
    },
    {
      "cell_type": "markdown",
      "source": [
        "The loss decreases slightly in the beginning but stabilizes quickly around 0.9624. It shows quick convergence."
      ],
      "metadata": {
        "id": "TrUeY5ucDkkW"
      }
    },
    {
      "cell_type": "markdown",
      "source": [
        "### VAE Model Evaluation\n",
        "\n",
        "The Variational Autoencoder model is evaluated on the test set, and reconstruction errors are used to set a threshold for anomaly detection. Predictions are made based on whether errors exceed this threshold.\n",
        "\n",
        "Key metrics (accuracy, weighted precision, recall, F1 score, and AUC) are calculated, and the confusion matrix and ROC curve are visualized to assess model performance.\n",
        "Since, we have imbalance in our data, we will be using Weighted Precision instead of actual precision for evaluation the precision of our model.\n",
        "We saved the model and logged to Weights and Biases as an artifact"
      ],
      "metadata": {
        "id": "QQlDCA3bDpe6"
      }
    },
    {
      "cell_type": "code",
      "source": [
        "# Assuming model, train_loader, and test_loader are already defined\n",
        "model.eval()\n",
        "\n",
        "with torch.no_grad():\n",
        "    recon, _, _ = model(torch.tensor(X_test).float().to(device))\n",
        "    recon_error = torch.mean((recon - torch.tensor(X_test).float().to(device))**2, dim=1)\n",
        "    recon_error = recon_error.cpu().numpy()\n",
        "\n",
        "# Setting a threshold for anomaly detection based on reconstruction error of non-fraud samples\n",
        "threshold = np.percentile(recon_error[y_test == 0], 98)\n",
        "y_pred = (recon_error > threshold).astype(int)\n",
        "\n",
        "# Calculate metrics\n",
        "accuracy = accuracy_score(y_test, y_pred)\n",
        "precision = precision_score(y_test, y_pred, average=\"weighted\")\n",
        "precision_actual = precision_score(y_test, y_pred)\n",
        "recall = recall_score(y_test, y_pred)\n",
        "f1 = f1_score(y_test, y_pred)\n",
        "auc = roc_auc_score(y_test, recon_error)\n",
        "\n",
        "print(f\"Accuracy: {accuracy:.4f}\")\n",
        "print(f\"Actual Precision: {precision_actual: .4f}\")\n",
        "print(f\"Precision Weighted: {precision:.4f}\")\n",
        "print(f\"Recall: {recall:.4f}\")\n",
        "print(f\"F1 Score: {f1:.4f}\")\n",
        "\n",
        "# Print classification report\n",
        "print(classification_report(y_test, y_pred))\n",
        "\n",
        "# Confusion Matrix\n",
        "cm = confusion_matrix(y_test, y_pred)\n",
        "plt.figure(figsize=(8, 6))\n",
        "sns.heatmap(cm, annot=True, fmt=\"d\", cmap=\"Blues\", xticklabels=[\"Non-Fraud\", \"Fraud\"], yticklabels=[\"Non-Fraud\", \"Fraud\"])\n",
        "plt.title('Confusion Matrix')\n",
        "plt.xlabel('Predicted')\n",
        "plt.ylabel('True')\n",
        "plt.show()\n",
        "\n",
        "# Log metrics to W&B\n",
        "wandb.log({\n",
        "    \"accuracy\": accuracy,\n",
        "    \"precision\": precision,\n",
        "    \"recall\": recall,\n",
        "    \"f1_score\": f1,\n",
        "    \"auc_score\": auc,\n",
        "    \"anomaly_threshold\": threshold\n",
        "})\n",
        "\n",
        "# Save the model as an artifact in W&B\n",
        "artifact = wandb.Artifact(\"vae_model\", type=\"model\")\n",
        "torch.save(model.state_dict(), \"vae_model.pth\")\n",
        "artifact.add_file(\"vae_model.pth\")\n",
        "wandb.log_artifact(artifact)\n"
      ],
      "metadata": {
        "colab": {
          "base_uri": "https://localhost:8080/",
          "height": 836
        },
        "id": "uwrvZAu_OkUy",
        "outputId": "ddb5204f-65f4-4d32-eb50-d73064ec1d7d"
      },
      "execution_count": 24,
      "outputs": [
        {
          "output_type": "stream",
          "name": "stdout",
          "text": [
            "Accuracy: 0.9784\n",
            "Actual Precision:  0.2547\n",
            "Precision Weighted: 0.9918\n",
            "Recall: 0.7907\n",
            "F1 Score: 0.3853\n",
            "              precision    recall  f1-score   support\n",
            "\n",
            "           0       1.00      0.98      0.99     56863\n",
            "           1       0.25      0.79      0.39       492\n",
            "\n",
            "    accuracy                           0.98     57355\n",
            "   macro avg       0.63      0.89      0.69     57355\n",
            "weighted avg       0.99      0.98      0.98     57355\n",
            "\n"
          ]
        },
        {
          "output_type": "display_data",
          "data": {
            "text/plain": [
              "<Figure size 800x600 with 2 Axes>"
            ],
            "image/png": "[encoded data removed]"
          },
          "metadata": {}
        },
        {
          "output_type": "execute_result",
          "data": {
            "text/plain": [
              "<Artifact vae_model>"
            ]
          },
          "metadata": {},
          "execution_count": 24
        }
      ]
    },
    {
      "cell_type": "markdown",
      "source": [
        "### VAE Model Evaluation Results\n",
        "* The model achieves **high overall accuracy (97.84%)** and excellent performance on the majority (non-fraud) class.\n",
        "* But its **actual precision** for detecting fraud (class 1) is low **(25.47%)**, though The **weighted precision (99.18%) is good**.\n",
        "* It manages a **high recall (79.07%)**—meaning it catches most fraud cases but with many false positives.\n",
        "* Overall, the model is good at finding frauds but needs improvement in reducing false alarms.\n"
      ],
      "metadata": {
        "id": "QGu4xg4fENM8"
      }
    },
    {
      "cell_type": "markdown",
      "source": [
        "### Hyperparameter Tuning\n",
        "Here, We are trying to improve our model's precision using hyperparameter tuning.\n",
        "We have used our saved VAE model and hypertuned it for different learning rates and batches."
      ],
      "metadata": {
        "id": "MpX-1u_7rpAa"
      }
    },
    {
      "cell_type": "code",
      "source": [
        "import os\n",
        "import joblib\n",
        "\n",
        "# loading saved model\n",
        "import wandb\n",
        "run = wandb.init()\n",
        "artifact = run.use_artifact('usf-alpha-neurons/autoencoder/vae_model:v1', type='model')\n",
        "artifact_dir = artifact.download()\n",
        "\n",
        "model_weights = torch.load(os.path.join(artifact_dir, \"vae_model.pth\"))\n",
        "\n",
        "# Initialize the model architecture first (must match the saved model structure)\n",
        "device = torch.device(\"cuda\" if torch.cuda.is_available() else \"cpu\")\n",
        "model = VAE(input_dim=X_train.shape[1], latent_dim=16).to(device)  # Replace with your correct architecture\n",
        "\n",
        "# Load the weights into the model\n",
        "model.load_state_dict(model_weights)\n",
        "model.eval()  # Set the model to evaluation mode\n",
        "\n",
        "\n",
        "#Prepare dataloader\n",
        "def get_loader(batch_size):\n",
        "    X_train_tensor = torch.tensor(X_train).float()\n",
        "    return DataLoader(TensorDataset(X_train_tensor), batch_size=batch_size, shuffle=True)\n",
        "\n",
        "#configs\n",
        "configs = [\n",
        "    {\"lr\": 1e-3, \"batch_size\": 64},\n",
        "    {\"lr\": 5e-4, \"batch_size\": 64},\n",
        "    {\"lr\": 1e-3, \"batch_size\": 128},\n",
        "]\n",
        "\n",
        "\n",
        "for config in configs:\n",
        "    wandb.init(project=\"autoencoder\", config=config)\n",
        "    lr = config['lr']\n",
        "    batch_size = config['batch_size']\n",
        "\n",
        "    train_loader = get_loader(batch_size)\n",
        "    model.to(device)\n",
        "    optimizer = optim.Adam(model.parameters(), lr=lr)\n",
        "\n",
        "    # Train\n",
        "    for epoch in range(10):\n",
        "        model.train()\n",
        "        total_loss = 0\n",
        "        for (batch,) in train_loader:\n",
        "            batch = batch.to(device)\n",
        "            optimizer.zero_grad()\n",
        "            recon, mu, logvar = model(batch)\n",
        "            loss = nn.functional.mse_loss(recon, batch, reduction='mean') + \\\n",
        "                   (-0.5 * torch.mean(1 + logvar - mu.pow(2) - logvar.exp()))\n",
        "            loss.backward()\n",
        "            optimizer.step()\n",
        "            total_loss += loss.item()\n",
        "\n",
        "    # Evaluate\n",
        "    model.eval()\n",
        "    with torch.no_grad():\n",
        "        inputs = torch.tensor(X_test).float().to(device)\n",
        "        recon, _, _ = model(inputs)\n",
        "        recon_error = torch.mean((recon - inputs) ** 2, dim=1).cpu().numpy()\n",
        "\n",
        "    threshold = np.percentile(recon_error[y_test == 0], 98)\n",
        "    y_pred = (recon_error > threshold).astype(int)\n",
        "    auc = roc_auc_score(y_test, recon_error)\n",
        "    report = classification_report(y_test, y_pred, output_dict=True)\n",
        "\n",
        "    wandb.log({\n",
        "        'vae_train_loss': total_loss / len(train_loader),\n",
        "        'anomaly_threshold': threshold,\n",
        "        'accuracy': report['accuracy'],\n",
        "        'f1_score': report['1']['f1-score'],\n",
        "        'precision': report['1']['precision'],\n",
        "        'recall': report['1']['recall'],\n",
        "        'auc_score': auc\n",
        "    })\n",
        "\n",
        "    # Save model and log as artifact\n",
        "    model_name = f\"vae_lr{lr}_bs{batch_size}.pt\"\n",
        "    torch.save(model.state_dict(), model_name)\n",
        "    artifact = wandb.Artifact(model_name, type=\"model\")\n",
        "    artifact.add_file(model_name)\n",
        "    wandb.log_artifact(artifact)\n",
        "\n",
        "\n"
      ],
      "metadata": {
        "colab": {
          "base_uri": "https://localhost:8080/",
          "height": 1000
        },
        "id": "CuKXySfeuDqJ",
        "outputId": "299137d9-65e4-4645-f067-52d2860ab3e0"
      },
      "execution_count": null,
      "outputs": [
        {
          "output_type": "display_data",
          "data": {
            "text/plain": [
              "<IPython.core.display.HTML object>"
            ],
            "text/html": []
          },
          "metadata": {}
        },
        {
          "output_type": "display_data",
          "data": {
            "text/plain": [
              "<IPython.core.display.HTML object>"
            ],
            "text/html": [
              " View run <strong style=\"color:#cdcd00\">jem-hadar-resistance-5</strong> at: <a href='https://wandb.ai/usf-alpha-neurons/uncategorized/runs/qjc6tf2r' target=\"_blank\">https://wandb.ai/usf-alpha-neurons/uncategorized/runs/qjc6tf2r</a><br> View project at: <a href='https://wandb.ai/usf-alpha-neurons/uncategorized' target=\"_blank\">https://wandb.ai/usf-alpha-neurons/uncategorized</a><br>Synced 5 W&B file(s), 0 media file(s), 0 artifact file(s) and 0 other file(s)"
            ]
          },
          "metadata": {}
        },
        {
          "output_type": "display_data",
          "data": {
            "text/plain": [
              "<IPython.core.display.HTML object>"
            ],
            "text/html": [
              "Find logs at: <code>./wandb/run-20250405_212239-qjc6tf2r/logs</code>"
            ]
          },
          "metadata": {}
        },
        {
          "output_type": "display_data",
          "data": {
            "text/plain": [
              "<IPython.core.display.HTML object>"
            ],
            "text/html": [
              "Tracking run with wandb version 0.19.9"
            ]
          },
          "metadata": {}
        },
        {
          "output_type": "display_data",
          "data": {
            "text/plain": [
              "<IPython.core.display.HTML object>"
            ],
            "text/html": [
              "Run data is saved locally in <code>/content/wandb/run-20250405_212330-dq23xjvp</code>"
            ]
          },
          "metadata": {}
        },
        {
          "output_type": "display_data",
          "data": {
            "text/plain": [
              "<IPython.core.display.HTML object>"
            ],
            "text/html": [
              "Syncing run <strong><a href='https://wandb.ai/usf-alpha-neurons/uncategorized/runs/dq23xjvp' target=\"_blank\">crusher-kirk-6</a></strong> to <a href='https://wandb.ai/usf-alpha-neurons/uncategorized' target=\"_blank\">Weights & Biases</a> (<a href='https://wandb.me/developer-guide' target=\"_blank\">docs</a>)<br>"
            ]
          },
          "metadata": {}
        },
        {
          "output_type": "display_data",
          "data": {
            "text/plain": [
              "<IPython.core.display.HTML object>"
            ],
            "text/html": [
              " View project at <a href='https://wandb.ai/usf-alpha-neurons/uncategorized' target=\"_blank\">https://wandb.ai/usf-alpha-neurons/uncategorized</a>"
            ]
          },
          "metadata": {}
        },
        {
          "output_type": "display_data",
          "data": {
            "text/plain": [
              "<IPython.core.display.HTML object>"
            ],
            "text/html": [
              " View run at <a href='https://wandb.ai/usf-alpha-neurons/uncategorized/runs/dq23xjvp' target=\"_blank\">https://wandb.ai/usf-alpha-neurons/uncategorized/runs/dq23xjvp</a>"
            ]
          },
          "metadata": {}
        },
        {
          "output_type": "stream",
          "name": "stderr",
          "text": [
            "\u001b[34m\u001b[1mwandb\u001b[0m:   1 of 1 files downloaded.  \n",
            "\u001b[34m\u001b[1mwandb\u001b[0m: \u001b[33mWARNING\u001b[0m Calling wandb.login() after wandb.init() has no effect.\n"
          ]
        },
        {
          "output_type": "display_data",
          "data": {
            "text/plain": [
              "<IPython.core.display.HTML object>"
            ],
            "text/html": []
          },
          "metadata": {}
        },
        {
          "output_type": "display_data",
          "data": {
            "text/plain": [
              "<IPython.core.display.HTML object>"
            ],
            "text/html": [
              " View run <strong style=\"color:#cdcd00\">crusher-kirk-6</strong> at: <a href='https://wandb.ai/usf-alpha-neurons/uncategorized/runs/dq23xjvp' target=\"_blank\">https://wandb.ai/usf-alpha-neurons/uncategorized/runs/dq23xjvp</a><br> View project at: <a href='https://wandb.ai/usf-alpha-neurons/uncategorized' target=\"_blank\">https://wandb.ai/usf-alpha-neurons/uncategorized</a><br>Synced 5 W&B file(s), 0 media file(s), 0 artifact file(s) and 0 other file(s)"
            ]
          },
          "metadata": {}
        },
        {
          "output_type": "display_data",
          "data": {
            "text/plain": [
              "<IPython.core.display.HTML object>"
            ],
            "text/html": [
              "Find logs at: <code>./wandb/run-20250405_212330-dq23xjvp/logs</code>"
            ]
          },
          "metadata": {}
        },
        {
          "output_type": "display_data",
          "data": {
            "text/plain": [
              "<IPython.core.display.HTML object>"
            ],
            "text/html": [
              "Tracking run with wandb version 0.19.9"
            ]
          },
          "metadata": {}
        },
        {
          "output_type": "display_data",
          "data": {
            "text/plain": [
              "<IPython.core.display.HTML object>"
            ],
            "text/html": [
              "Run data is saved locally in <code>/content/wandb/run-20250405_212335-3i2gmk1h</code>"
            ]
          },
          "metadata": {}
        },
        {
          "output_type": "display_data",
          "data": {
            "text/plain": [
              "<IPython.core.display.HTML object>"
            ],
            "text/html": [
              "Syncing run <strong><a href='https://wandb.ai/usf-alpha-neurons/autoencoder/runs/3i2gmk1h' target=\"_blank\">ferengi-resistance-10</a></strong> to <a href='https://wandb.ai/usf-alpha-neurons/autoencoder' target=\"_blank\">Weights & Biases</a> (<a href='https://wandb.me/developer-guide' target=\"_blank\">docs</a>)<br>"
            ]
          },
          "metadata": {}
        },
        {
          "output_type": "display_data",
          "data": {
            "text/plain": [
              "<IPython.core.display.HTML object>"
            ],
            "text/html": [
              " View project at <a href='https://wandb.ai/usf-alpha-neurons/autoencoder' target=\"_blank\">https://wandb.ai/usf-alpha-neurons/autoencoder</a>"
            ]
          },
          "metadata": {}
        },
        {
          "output_type": "display_data",
          "data": {
            "text/plain": [
              "<IPython.core.display.HTML object>"
            ],
            "text/html": [
              " View run at <a href='https://wandb.ai/usf-alpha-neurons/autoencoder/runs/3i2gmk1h' target=\"_blank\">https://wandb.ai/usf-alpha-neurons/autoencoder/runs/3i2gmk1h</a>"
            ]
          },
          "metadata": {}
        },
        {
          "output_type": "display_data",
          "data": {
            "text/plain": [
              "<IPython.core.display.HTML object>"
            ],
            "text/html": []
          },
          "metadata": {}
        },
        {
          "output_type": "display_data",
          "data": {
            "text/plain": [
              "<IPython.core.display.HTML object>"
            ],
            "text/html": [
              "<br>    <style><br>        .wandb-row {<br>            display: flex;<br>            flex-direction: row;<br>            flex-wrap: wrap;<br>            justify-content: flex-start;<br>            width: 100%;<br>        }<br>        .wandb-col {<br>            display: flex;<br>            flex-direction: column;<br>            flex-basis: 100%;<br>            flex: 1;<br>            padding: 10px;<br>        }<br>    </style><br><div class=\"wandb-row\"><div class=\"wandb-col\"><h3>Run history:</h3><br/><table class=\"wandb\"><tr><td>accuracy</td><td>▁</td></tr><tr><td>anomaly_threshold</td><td>▁</td></tr><tr><td>auc_score</td><td>▁</td></tr><tr><td>f1_score</td><td>▁</td></tr><tr><td>precision</td><td>▁</td></tr><tr><td>recall</td><td>▁</td></tr><tr><td>vae_train_loss</td><td>▁</td></tr></table><br/></div><div class=\"wandb-col\"><h3>Run summary:</h3><br/><table class=\"wandb\"><tr><td>accuracy</td><td>0.97835</td></tr><tr><td>anomaly_threshold</td><td>3.89692</td></tr><tr><td>auc_score</td><td>0.95232</td></tr><tr><td>f1_score</td><td>0.38454</td></tr><tr><td>precision</td><td>0.25426</td></tr><tr><td>recall</td><td>0.78862</td></tr><tr><td>vae_train_loss</td><td>0.9624</td></tr></table><br/></div></div>"
            ]
          },
          "metadata": {}
        },
        {
          "output_type": "display_data",
          "data": {
            "text/plain": [
              "<IPython.core.display.HTML object>"
            ],
            "text/html": [
              " View run <strong style=\"color:#cdcd00\">ferengi-resistance-10</strong> at: <a href='https://wandb.ai/usf-alpha-neurons/autoencoder/runs/3i2gmk1h' target=\"_blank\">https://wandb.ai/usf-alpha-neurons/autoencoder/runs/3i2gmk1h</a><br> View project at: <a href='https://wandb.ai/usf-alpha-neurons/autoencoder' target=\"_blank\">https://wandb.ai/usf-alpha-neurons/autoencoder</a><br>Synced 5 W&B file(s), 0 media file(s), 2 artifact file(s) and 0 other file(s)"
            ]
          },
          "metadata": {}
        },
        {
          "output_type": "display_data",
          "data": {
            "text/plain": [
              "<IPython.core.display.HTML object>"
            ],
            "text/html": [
              "Find logs at: <code>./wandb/run-20250405_212335-3i2gmk1h/logs</code>"
            ]
          },
          "metadata": {}
        },
        {
          "output_type": "display_data",
          "data": {
            "text/plain": [
              "<IPython.core.display.HTML object>"
            ],
            "text/html": [
              "Tracking run with wandb version 0.19.9"
            ]
          },
          "metadata": {}
        },
        {
          "output_type": "display_data",
          "data": {
            "text/plain": [
              "<IPython.core.display.HTML object>"
            ],
            "text/html": [
              "Run data is saved locally in <code>/content/wandb/run-20250405_212535-dkso7tb6</code>"
            ]
          },
          "metadata": {}
        },
        {
          "output_type": "display_data",
          "data": {
            "text/plain": [
              "<IPython.core.display.HTML object>"
            ],
            "text/html": [
              "Syncing run <strong><a href='https://wandb.ai/usf-alpha-neurons/autoencoder/runs/dkso7tb6' target=\"_blank\">empathic-blood-wine-11</a></strong> to <a href='https://wandb.ai/usf-alpha-neurons/autoencoder' target=\"_blank\">Weights & Biases</a> (<a href='https://wandb.me/developer-guide' target=\"_blank\">docs</a>)<br>"
            ]
          },
          "metadata": {}
        },
        {
          "output_type": "display_data",
          "data": {
            "text/plain": [
              "<IPython.core.display.HTML object>"
            ],
            "text/html": [
              " View project at <a href='https://wandb.ai/usf-alpha-neurons/autoencoder' target=\"_blank\">https://wandb.ai/usf-alpha-neurons/autoencoder</a>"
            ]
          },
          "metadata": {}
        },
        {
          "output_type": "display_data",
          "data": {
            "text/plain": [
              "<IPython.core.display.HTML object>"
            ],
            "text/html": [
              " View run at <a href='https://wandb.ai/usf-alpha-neurons/autoencoder/runs/dkso7tb6' target=\"_blank\">https://wandb.ai/usf-alpha-neurons/autoencoder/runs/dkso7tb6</a>"
            ]
          },
          "metadata": {}
        },
        {
          "output_type": "display_data",
          "data": {
            "text/plain": [
              "<IPython.core.display.HTML object>"
            ],
            "text/html": []
          },
          "metadata": {}
        },
        {
          "output_type": "display_data",
          "data": {
            "text/plain": [
              "<IPython.core.display.HTML object>"
            ],
            "text/html": [
              "<br>    <style><br>        .wandb-row {<br>            display: flex;<br>            flex-direction: row;<br>            flex-wrap: wrap;<br>            justify-content: flex-start;<br>            width: 100%;<br>        }<br>        .wandb-col {<br>            display: flex;<br>            flex-direction: column;<br>            flex-basis: 100%;<br>            flex: 1;<br>            padding: 10px;<br>        }<br>    </style><br><div class=\"wandb-row\"><div class=\"wandb-col\"><h3>Run history:</h3><br/><table class=\"wandb\"><tr><td>accuracy</td><td>▁</td></tr><tr><td>anomaly_threshold</td><td>▁</td></tr><tr><td>auc_score</td><td>▁</td></tr><tr><td>f1_score</td><td>▁</td></tr><tr><td>precision</td><td>▁</td></tr><tr><td>recall</td><td>▁</td></tr><tr><td>vae_train_loss</td><td>▁</td></tr></table><br/></div><div class=\"wandb-col\"><h3>Run summary:</h3><br/><table class=\"wandb\"><tr><td>accuracy</td><td>0.97836</td></tr><tr><td>anomaly_threshold</td><td>3.89436</td></tr><tr><td>auc_score</td><td>0.95242</td></tr><tr><td>f1_score</td><td>0.38534</td></tr><tr><td>precision</td><td>0.25475</td></tr><tr><td>recall</td><td>0.79065</td></tr><tr><td>vae_train_loss</td><td>0.96237</td></tr></table><br/></div></div>"
            ]
          },
          "metadata": {}
        },
        {
          "output_type": "display_data",
          "data": {
            "text/plain": [
              "<IPython.core.display.HTML object>"
            ],
            "text/html": [
              " View run <strong style=\"color:#cdcd00\">empathic-blood-wine-11</strong> at: <a href='https://wandb.ai/usf-alpha-neurons/autoencoder/runs/dkso7tb6' target=\"_blank\">https://wandb.ai/usf-alpha-neurons/autoencoder/runs/dkso7tb6</a><br> View project at: <a href='https://wandb.ai/usf-alpha-neurons/autoencoder' target=\"_blank\">https://wandb.ai/usf-alpha-neurons/autoencoder</a><br>Synced 5 W&B file(s), 0 media file(s), 2 artifact file(s) and 0 other file(s)"
            ]
          },
          "metadata": {}
        },
        {
          "output_type": "display_data",
          "data": {
            "text/plain": [
              "<IPython.core.display.HTML object>"
            ],
            "text/html": [
              "Find logs at: <code>./wandb/run-20250405_212535-dkso7tb6/logs</code>"
            ]
          },
          "metadata": {}
        },
        {
          "output_type": "display_data",
          "data": {
            "text/plain": [
              "<IPython.core.display.HTML object>"
            ],
            "text/html": [
              "Tracking run with wandb version 0.19.9"
            ]
          },
          "metadata": {}
        },
        {
          "output_type": "display_data",
          "data": {
            "text/plain": [
              "<IPython.core.display.HTML object>"
            ],
            "text/html": [
              "Run data is saved locally in <code>/content/wandb/run-20250405_212729-v6fvy8l8</code>"
            ]
          },
          "metadata": {}
        },
        {
          "output_type": "display_data",
          "data": {
            "text/plain": [
              "<IPython.core.display.HTML object>"
            ],
            "text/html": [
              "Syncing run <strong><a href='https://wandb.ai/usf-alpha-neurons/autoencoder/runs/v6fvy8l8' target=\"_blank\">final-picard-12</a></strong> to <a href='https://wandb.ai/usf-alpha-neurons/autoencoder' target=\"_blank\">Weights & Biases</a> (<a href='https://wandb.me/developer-guide' target=\"_blank\">docs</a>)<br>"
            ]
          },
          "metadata": {}
        },
        {
          "output_type": "display_data",
          "data": {
            "text/plain": [
              "<IPython.core.display.HTML object>"
            ],
            "text/html": [
              " View project at <a href='https://wandb.ai/usf-alpha-neurons/autoencoder' target=\"_blank\">https://wandb.ai/usf-alpha-neurons/autoencoder</a>"
            ]
          },
          "metadata": {}
        },
        {
          "output_type": "display_data",
          "data": {
            "text/plain": [
              "<IPython.core.display.HTML object>"
            ],
            "text/html": [
              " View run at <a href='https://wandb.ai/usf-alpha-neurons/autoencoder/runs/v6fvy8l8' target=\"_blank\">https://wandb.ai/usf-alpha-neurons/autoencoder/runs/v6fvy8l8</a>"
            ]
          },
          "metadata": {}
        }
      ]
    },
    {
      "cell_type": "markdown",
      "source": [
        "Post hyperparameter tuning, we don't find much difference is results as compared to our VAE model.\n",
        "The evaluation metrics are somewhat similar to the originial trained model.\n",
        "The improvements from tuning here are marginal but meaningful. We are validating the model’s stability, robustness, and threshold sensitivity.\n",
        "\n",
        "For Future scope, we can try tuning more aggressive hyperparameters or switching architectures (like  Conditional VAE or Transformer Autoencoders)."
      ],
      "metadata": {
        "id": "6yWeC11EFatH"
      }
    },
    {
      "cell_type": "code",
      "source": [
        "  wandb.finish()"
      ],
      "metadata": {
        "colab": {
          "base_uri": "https://localhost:8080/",
          "height": 611
        },
        "id": "PbiWyLQA0XPt",
        "outputId": "d2ac521e-911e-4fd7-e4df-710abbcfb713"
      },
      "execution_count": 25,
      "outputs": [
        {
          "output_type": "display_data",
          "data": {
            "text/plain": [
              "<IPython.core.display.HTML object>"
            ],
            "text/html": []
          },
          "metadata": {}
        },
        {
          "output_type": "display_data",
          "data": {
            "text/plain": [
              "<IPython.core.display.HTML object>"
            ],
            "text/html": [
              "<br>    <style><br>        .wandb-row {<br>            display: flex;<br>            flex-direction: row;<br>            flex-wrap: wrap;<br>            justify-content: flex-start;<br>            width: 100%;<br>        }<br>        .wandb-col {<br>            display: flex;<br>            flex-direction: column;<br>            flex-basis: 100%;<br>            flex: 1;<br>            padding: 10px;<br>        }<br>    </style><br><div class=\"wandb-row\"><div class=\"wandb-col\"><h3>Run history:</h3><br/><table class=\"wandb\"><tr><td>accuracy</td><td>▁</td></tr><tr><td>anomaly_threshold</td><td>▁</td></tr><tr><td>auc_score</td><td>▁</td></tr><tr><td>epoch</td><td>▁▂▃▃▄▅▆▆▇█</td></tr><tr><td>f1_score</td><td>▁</td></tr><tr><td>precision</td><td>▁</td></tr><tr><td>recall</td><td>▁</td></tr><tr><td>vae_train_loss</td><td>█▁▁▁▁▁▁▁▁▁</td></tr></table><br/></div><div class=\"wandb-col\"><h3>Run summary:</h3><br/><table class=\"wandb\"><tr><td>accuracy</td><td>0.97836</td></tr><tr><td>anomaly_threshold</td><td>3.89527</td></tr><tr><td>auc_score</td><td>0.9524</td></tr><tr><td>epoch</td><td>10</td></tr><tr><td>f1_score</td><td>0.38534</td></tr><tr><td>precision</td><td>0.99178</td></tr><tr><td>recall</td><td>0.79065</td></tr><tr><td>vae_train_loss</td><td>0.96241</td></tr></table><br/></div></div>"
            ]
          },
          "metadata": {}
        },
        {
          "output_type": "display_data",
          "data": {
            "text/plain": [
              "<IPython.core.display.HTML object>"
            ],
            "text/html": [
              " View run <strong style=\"color:#cdcd00\">true-vortex-19</strong> at: <a href='https://wandb.ai/usf-alpha-neurons/autoencoder/runs/9s6pobsk' target=\"_blank\">https://wandb.ai/usf-alpha-neurons/autoencoder/runs/9s6pobsk</a><br> View project at: <a href='https://wandb.ai/usf-alpha-neurons/autoencoder' target=\"_blank\">https://wandb.ai/usf-alpha-neurons/autoencoder</a><br>Synced 5 W&B file(s), 0 media file(s), 2 artifact file(s) and 0 other file(s)"
            ]
          },
          "metadata": {}
        },
        {
          "output_type": "display_data",
          "data": {
            "text/plain": [
              "<IPython.core.display.HTML object>"
            ],
            "text/html": [
              "Find logs at: <code>./wandb/run-20250407_051522-9s6pobsk/logs</code>"
            ]
          },
          "metadata": {}
        }
      ]
    },
    {
      "cell_type": "markdown",
      "source": [
        "## Conclusion\n",
        "* Both models perform similarly in detecting fraud cases, with very close recall and F1 scores.\n",
        "\n",
        "* VAE has slightly lower precision and accuracy compared to the simple autoencoder.\n",
        "\n",
        "* The weighted precision remains high for both due to the overwhelming majority of non-fraud cases.\n",
        "\n",
        " While VAE adds probabilistic modeling benefits and can generalize better with latent space learning, in this case, the simple autoencoder performs slightly better or equally well in fraud detection based on the provided metrics.\n",
        " We thereby, infer that since our dataset is clean and consists simplen data, Simple Autoencoder model is performing slightly better.\n",
        "\n",
        " But in case of normal scenarios with noisy and complex data, The Variational Autoencoder model will perform better as VAE offers a probabilistic latent representation, which may help in other applications or long-term generalization."
      ],
      "metadata": {
        "id": "-dG16nMXF83Z"
      }
    }
  ]
}